{
  "nbformat": 4,
  "nbformat_minor": 0,
  "metadata": {
    "colab": {
      "name": "python_practice.ipynb",
      "provenance": [],
      "authorship_tag": "ABX9TyNP1DQaXZ5MEFtrnD/HrERL",
      "include_colab_link": true
    },
    "kernelspec": {
      "name": "python3",
      "display_name": "Python 3"
    }
  },
  "cells": [
    {
      "cell_type": "markdown",
      "metadata": {
        "id": "view-in-github",
        "colab_type": "text"
      },
      "source": [
        "<a href=\"https://colab.research.google.com/github/udghosh/Practice/blob/main/python_practice.ipynb\" target=\"_parent\"><img src=\"https://colab.research.google.com/assets/colab-badge.svg\" alt=\"Open In Colab\"/></a>"
      ]
    },
    {
      "cell_type": "code",
      "metadata": {
        "colab": {
          "base_uri": "https://localhost:8080/"
        },
        "id": "pRF_OWkTJxRE",
        "outputId": "8efa8b94-daf2-49ca-c074-4f2460a38c6c"
      },
      "source": [
        "\n",
        "odd_square = [x ** 2 for x in range(1, 11) if x % 2 == 1] \n",
        "print (odd_square) \n"
      ],
      "execution_count": null,
      "outputs": [
        {
          "output_type": "stream",
          "text": [
            "[1, 9, 25, 49, 81]\n"
          ],
          "name": "stdout"
        }
      ]
    },
    {
      "cell_type": "code",
      "metadata": {
        "colab": {
          "base_uri": "https://localhost:8080/"
        },
        "id": "Hxw-2Mg0L45_",
        "outputId": "b3167339-85c8-473f-e9b9-6ecd4bc65211"
      },
      "source": [
        "\n",
        "odd_square = [] \n",
        "for x in range(1, 11): \n",
        "\tif x % 2 == 1: \n",
        "\t\todd_square.append(x**2) \n",
        "print (odd_square) "
      ],
      "execution_count": null,
      "outputs": [
        {
          "output_type": "stream",
          "text": [
            "[1, 9, 25, 49, 81]\n"
          ],
          "name": "stdout"
        }
      ]
    },
    {
      "cell_type": "code",
      "metadata": {
        "colab": {
          "base_uri": "https://localhost:8080/"
        },
        "id": "bEQFFbU6L-5Q",
        "outputId": "3be07088-9925-484f-f1d8-78c1e63cb40e"
      },
      "source": [
        "# below list contains power of 2 from 1 to 8 \n",
        "power_of_2 = [2 ** x for x in range(1, 9)] \n",
        "print (power_of_2) "
      ],
      "execution_count": null,
      "outputs": [
        {
          "output_type": "stream",
          "text": [
            "[2, 4, 8, 16, 32, 64, 128, 256]\n"
          ],
          "name": "stdout"
        }
      ]
    },
    {
      "cell_type": "code",
      "metadata": {
        "colab": {
          "base_uri": "https://localhost:8080/"
        },
        "id": "w5Kfx9rRMEbW",
        "outputId": "2766cbea-b865-40a7-84b8-28ed5d44a9ed"
      },
      "source": [
        "# below list contains prime and non-prime in range 1 to 50 \n",
        "noprimes = [j for i in range(2, 8) for j in range(i*2, 50, i)] \n",
        "primes = [x for x in range(2, 50) if x not in noprimes] \n",
        "print (primes) "
      ],
      "execution_count": null,
      "outputs": [
        {
          "output_type": "stream",
          "text": [
            "[2, 3, 5, 7, 11, 13, 17, 19, 23, 29, 31, 37, 41, 43, 47]\n"
          ],
          "name": "stdout"
        }
      ]
    },
    {
      "cell_type": "code",
      "metadata": {
        "colab": {
          "base_uri": "https://localhost:8080/"
        },
        "id": "l25-tXDhMI6V",
        "outputId": "cac9be5a-7111-4ee0-adca-7921c306c57c"
      },
      "source": [
        "# list for lowering the characters \n",
        "print ([x.lower() for x in [\"A\",\"B\",\"C\"]] ) "
      ],
      "execution_count": null,
      "outputs": [
        {
          "output_type": "stream",
          "text": [
            "['a', 'b', 'c']\n"
          ],
          "name": "stdout"
        }
      ]
    },
    {
      "cell_type": "code",
      "metadata": {
        "colab": {
          "base_uri": "https://localhost:8080/"
        },
        "id": "ttsbFXsLMPIc",
        "outputId": "e64e41ab-3ddd-4604-d087-e42a12da674f"
      },
      "source": [
        "# list which extracts number \n",
        "string = \"my phone number is : 11122 !!\"\n",
        "\n",
        "print(\"\\nExtracted digits\") \n",
        "numbers = [x for x in string if x.isdigit()] \n",
        "print (numbers)"
      ],
      "execution_count": null,
      "outputs": [
        {
          "output_type": "stream",
          "text": [
            "\n",
            "Extracted digits\n",
            "['1', '1', '1', '2', '2']\n"
          ],
          "name": "stdout"
        }
      ]
    },
    {
      "cell_type": "code",
      "metadata": {
        "colab": {
          "base_uri": "https://localhost:8080/"
        },
        "id": "DFKV0XDGMTrj",
        "outputId": "7ee04ea5-1a41-420f-b632-2bc444deca70"
      },
      "source": [
        "\n",
        "# A list of list for multiplication table \n",
        "a = 5\n",
        "table = [[a, b, a * b] for b in range(1, 11)] \n",
        "\n",
        "print(\"\\nMultiplication Table\") \n",
        "for i in table: \n",
        "\tprint (i) "
      ],
      "execution_count": null,
      "outputs": [
        {
          "output_type": "stream",
          "text": [
            "\n",
            "Multiplication Table\n",
            "[5, 1, 5]\n",
            "[5, 2, 10]\n",
            "[5, 3, 15]\n",
            "[5, 4, 20]\n",
            "[5, 5, 25]\n",
            "[5, 6, 30]\n",
            "[5, 7, 35]\n",
            "[5, 8, 40]\n",
            "[5, 9, 45]\n",
            "[5, 10, 50]\n"
          ],
          "name": "stdout"
        }
      ]
    }
  ]
}