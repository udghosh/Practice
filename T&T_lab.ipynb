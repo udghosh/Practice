{
  "nbformat": 4,
  "nbformat_minor": 0,
  "metadata": {
    "colab": {
      "name": "T&T_lab.ipynb",
      "provenance": [],
      "authorship_tag": "ABX9TyNpMJ2x7BuFgTJfGae97Mbt",
      "include_colab_link": true
    },
    "kernelspec": {
      "name": "python3",
      "display_name": "Python 3"
    }
  },
  "cells": [
    {
      "cell_type": "markdown",
      "metadata": {
        "id": "view-in-github",
        "colab_type": "text"
      },
      "source": [
        "<a href=\"https://colab.research.google.com/github/udghosh/Practice/blob/main/T%26T_lab.ipynb\" target=\"_parent\"><img src=\"https://colab.research.google.com/assets/colab-badge.svg\" alt=\"Open In Colab\"/></a>"
      ]
    },
    {
      "cell_type": "markdown",
      "metadata": {
        "id": "NZfiZDimDBXT"
      },
      "source": [
        "**LINEAR REGRESSION**"
      ]
    },
    {
      "cell_type": "code",
      "metadata": {
        "id": "_C-CKCFlBYRZ",
        "colab": {
          "base_uri": "https://localhost:8080/",
          "height": 332
        },
        "outputId": "3fb810e0-4436-4514-ab7b-cd0d267b237c"
      },
      "source": [
        "import numpy as np \n",
        "import matplotlib.pyplot as plt \n",
        "\n",
        "def estimate_coef(x, y): \n",
        "\t# number of observations/points \n",
        "\tn = np.size(x) \n",
        "\n",
        "\t# mean of x and y vector \n",
        "\tm_x, m_y = np.mean(x), np.mean(y) \n",
        "\n",
        "\t# calculating cross-deviation and deviation about x \n",
        "\tSS_xy = np.sum(y*x) - n*m_y*m_x \n",
        "\tSS_xx = np.sum(x*x) - n*m_x*m_x \n",
        "\n",
        "\t# calculating regression coefficients \n",
        "\tb_1 = SS_xy / SS_xx \n",
        "\tb_0 = m_y - b_1*m_x \n",
        "\n",
        "\treturn(b_0, b_1) \n",
        "\n",
        "def plot_regression_line(x, y, b): \n",
        "\t# plotting the actual points as scatter plot \n",
        "\tplt.scatter(x, y, color = \"m\", \n",
        "\t\t\tmarker = \"o\", s = 30) \n",
        "\n",
        "\t# predicted response vector \n",
        "\ty_pred = b[0] + b[1]*x \n",
        "\n",
        "\t# plotting the regression line \n",
        "\tplt.plot(x, y_pred, color = \"g\") \n",
        "\n",
        "\t# putting labels \n",
        "\tplt.xlabel('x') \n",
        "\tplt.ylabel('y') \n",
        "\n",
        "\t# function to show plot \n",
        "\tplt.show() \n",
        "\n",
        "def main(): \n",
        "\t# observations \n",
        "\tx = np.array([0, 1, 2, 3, 4, 5, 6, 7, 8, 9]) \n",
        "\ty = np.array([1, 3, 2, 5, 7, 8, 8, 9, 10, 12]) \n",
        "\n",
        "\t# estimating coefficients \n",
        "\tb = estimate_coef(x, y) \n",
        "\tprint(\"Estimated coefficients:\\nb_0 = {} \\ \\nb_1 = {}\".format(b[0], b[1])) \n",
        "\n",
        "\t# plotting regression line \n",
        "\tplot_regression_line(x, y, b) \n",
        "\n",
        "if __name__ == \"__main__\": \n",
        "\tmain() \n"
      ],
      "execution_count": null,
      "outputs": [
        {
          "output_type": "stream",
          "text": [
            "Estimated coefficients:\n",
            "b_0 = 1.2363636363636363 \\ \n",
            "b_1 = 1.1696969696969697\n"
          ],
          "name": "stdout"
        },
        {
          "output_type": "display_data",
          "data": {
            "image/png": "[encoded data removed]",
            "text/plain": [
              "<Figure size 432x288 with 1 Axes>"
            ]
          },
          "metadata": {
            "tags": [],
            "needs_background": "light"
          }
        }
      ]
    },
    {
      "cell_type": "markdown",
      "metadata": {
        "id": "OgC9glrNDhJ4"
      },
      "source": [
        "**NON LINEAR REGRESSION**"
      ]
    },
    {
      "cell_type": "code",
      "metadata": {
        "colab": {
          "base_uri": "https://localhost:8080/",
          "height": 279
        },
        "id": "yV5GAfeLDmuj",
        "outputId": "c6ef9caf-cf33-4e13-ca0f-5ab855e475cd"
      },
      "source": [
        "import numpy as np \n",
        "import matplotlib.pyplot as plt \n",
        "%matplotlib inline \n",
        "\n",
        "x = np.arange(-5.0, 5.0, 0.1) \n",
        "\n",
        "## You can adjust the slope and intercept to verify the changes in the graph \n",
        "y = 1*(x**3) + 1*(x**2) + 1 * x + 3\n",
        "y_noise = 20 * np.random.normal(size = x.size) \n",
        "ydata = y + y_noise \n",
        "plt.plot(x, ydata, 'bo') \n",
        "plt.plot(x, y, 'r') \n",
        "plt.ylabel('Dependent Variable') \n",
        "plt.xlabel('Indepdendent Variable') \n",
        "plt.show() \n"
      ],
      "execution_count": null,
      "outputs": [
        {
          "output_type": "display_data",
          "data": {
            "image/png": "[encoded data removed]",
            "text/plain": [
              "<Figure size 432x288 with 1 Axes>"
            ]
          },
          "metadata": {
            "tags": [],
            "needs_background": "light"
          }
        }
      ]
    },
    {
      "cell_type": "markdown",
      "metadata": {
        "id": "hbjmKTXqG3qC"
      },
      "source": [
        "**LOGISTIC REGRESSION**"
      ]
    },
    {
      "cell_type": "code",
      "metadata": {
        "colab": {
          "base_uri": "https://localhost:8080/"
        },
        "id": "7R3xoTBhG8J4",
        "outputId": "579c44f9-b03f-4d6f-d1c1-32904f58a582"
      },
      "source": [
        "from google.colab import drive\n",
        "drive.mount('/content/drive')"
      ],
      "execution_count": null,
      "outputs": [
        {
          "output_type": "stream",
          "text": [
            "Drive already mounted at /content/drive; to attempt to forcibly remount, call drive.mount(\"/content/drive\", force_remount=True).\n"
          ],
          "name": "stdout"
        }
      ]
    },
    {
      "cell_type": "code",
      "metadata": {
        "id": "i34V_BVrHGva"
      },
      "source": [
        "import pandas as pd \n",
        "import numpy as np \n",
        "import matplotlib.pyplot as plt \n",
        "from sklearn.model_selection import train_test_split\n",
        "from sklearn.preprocessing import StandardScaler \n",
        "from sklearn.linear_model import LogisticRegression \n",
        "from sklearn.metrics import confusion_matrix \n",
        "from sklearn.metrics import accuracy_score\n",
        "from matplotlib.colors import ListedColormap "
      ],
      "execution_count": null,
      "outputs": []
    },
    {
      "cell_type": "code",
      "metadata": {
        "id": "G5GomdY7Ixip"
      },
      "source": [
        "dataset = pd.read_csv('/content/drive/MyDrive/User_Data.csv') \n"
      ],
      "execution_count": null,
      "outputs": []
    },
    {
      "cell_type": "code",
      "metadata": {
        "id": "ymhuw5yVI7AC"
      },
      "source": [
        "# input \n",
        "x = dataset.iloc[:, [2, 3]].values \n",
        "\n",
        "# output \n",
        "y = dataset.iloc[:, 4].values \n"
      ],
      "execution_count": null,
      "outputs": []
    },
    {
      "cell_type": "code",
      "metadata": {
        "id": "aEciRefqI_jC"
      },
      "source": [
        "xtrain, xtest, ytrain, ytest = train_test_split(x, y, test_size = 0.25, random_state = 0) "
      ],
      "execution_count": null,
      "outputs": []
    },
    {
      "cell_type": "code",
      "metadata": {
        "colab": {
          "base_uri": "https://localhost:8080/"
        },
        "id": "7p7HJqU6JDd5",
        "outputId": "8597f04f-d968-454c-a947-97361153d329"
      },
      "source": [
        "\n",
        "sc_x = StandardScaler() \n",
        "xtrain = sc_x.fit_transform(xtrain) \n",
        "xtest = sc_x.transform(xtest) \n",
        "\n",
        "print (xtrain[0:10, :]) \n"
      ],
      "execution_count": null,
      "outputs": [
        {
          "output_type": "stream",
          "text": [
            "[[ 0.58164944 -0.88670699]\n",
            " [-0.60673761  1.46173768]\n",
            " [-0.01254409 -0.5677824 ]\n",
            " [-0.60673761  1.89663484]\n",
            " [ 1.37390747 -1.40858358]\n",
            " [ 1.47293972  0.99784738]\n",
            " [ 0.08648817 -0.79972756]\n",
            " [-0.01254409 -0.24885782]\n",
            " [-0.21060859 -0.5677824 ]\n",
            " [-0.21060859 -0.19087153]]\n"
          ],
          "name": "stdout"
        }
      ]
    },
    {
      "cell_type": "code",
      "metadata": {
        "colab": {
          "base_uri": "https://localhost:8080/"
        },
        "id": "5LG_znK4KGX7",
        "outputId": "74038a0e-2915-4d92-fd05-b61a2b2ca8cd"
      },
      "source": [
        "classifier = LogisticRegression(random_state = 0) \n",
        "classifier.fit(xtrain, ytrain) \n"
      ],
      "execution_count": null,
      "outputs": [
        {
          "output_type": "execute_result",
          "data": {
            "text/plain": [
              "LogisticRegression(C=1.0, class_weight=None, dual=False, fit_intercept=True,\n",
              "                   intercept_scaling=1, l1_ratio=None, max_iter=100,\n",
              "                   multi_class='auto', n_jobs=None, penalty='l2',\n",
              "                   random_state=0, solver='lbfgs', tol=0.0001, verbose=0,\n",
              "                   warm_start=False)"
            ]
          },
          "metadata": {
            "tags": []
          },
          "execution_count": 56
        }
      ]
    },
    {
      "cell_type": "code",
      "metadata": {
        "colab": {
          "base_uri": "https://localhost:8080/"
        },
        "id": "CvkpxIODKY7P",
        "outputId": "b62c00e6-5227-4a49-db52-143db5c120f2"
      },
      "source": [
        "y_pred = classifier.predict(xtest) \n",
        "\n",
        "cm = confusion_matrix(ytest, y_pred) \n",
        "\n",
        "print (\"Confusion Matrix : \\n\", cm) \n"
      ],
      "execution_count": null,
      "outputs": [
        {
          "output_type": "stream",
          "text": [
            "Confusion Matrix : \n",
            " [[65  3]\n",
            " [ 8 24]]\n"
          ],
          "name": "stdout"
        }
      ]
    },
    {
      "cell_type": "code",
      "metadata": {
        "colab": {
          "base_uri": "https://localhost:8080/"
        },
        "id": "xhnK9Ql_KePv",
        "outputId": "18617869-44d1-45b4-ea6a-3e26997b1c04"
      },
      "source": [
        " \n",
        "print (\"Accuracy : \", accuracy_score(ytest, y_pred)) \n"
      ],
      "execution_count": null,
      "outputs": [
        {
          "output_type": "stream",
          "text": [
            "Accuracy :  0.89\n"
          ],
          "name": "stdout"
        }
      ]
    },
    {
      "cell_type": "code",
      "metadata": {
        "colab": {
          "base_uri": "https://localhost:8080/",
          "height": 351
        },
        "id": "Hr-q_aL7KnXX",
        "outputId": "4365bad2-02dc-481b-f0d4-c19586bd5769"
      },
      "source": [
        "\n",
        "X_set, y_set = xtest, ytest \n",
        "X1, X2 = np.meshgrid(np.arange(start = X_set[:, 0].min() - 1, \n",
        "\t\t\t\t\t\t\tstop = X_set[:, 0].max() + 1, step = 0.01), \n",
        "\t\t\t\t\tnp.arange(start = X_set[:, 1].min() - 1, \n",
        "\t\t\t\t\t\t\tstop = X_set[:, 1].max() + 1, step = 0.01)) \n",
        "\n",
        "plt.contourf(X1, X2, classifier.predict( \n",
        "\t\t\tnp.array([X1.ravel(), X2.ravel()]).T).reshape( \n",
        "\t\t\tX1.shape), alpha = 0.75, cmap = ListedColormap(('red', 'green'))) \n",
        "\n",
        "plt.xlim(X1.min(), X1.max()) \n",
        "plt.ylim(X2.min(), X2.max()) \n",
        "\n",
        "for i, j in enumerate(np.unique(y_set)): \n",
        "\tplt.scatter(X_set[y_set == j, 0], X_set[y_set == j, 1], \n",
        "\t\t\t\tc = ListedColormap(('red', 'green'))(i), label = j) \n",
        "\t\n",
        "plt.title('Classifier (Test set)') \n",
        "plt.xlabel('Age') \n",
        "plt.ylabel('Estimated Salary') \n",
        "plt.legend() \n",
        "plt.show() \n"
      ],
      "execution_count": null,
      "outputs": [
        {
          "output_type": "stream",
          "text": [
            "*c* argument looks like a single numeric RGB or RGBA sequence, which should be avoided as value-mapping will have precedence in case its length matches with *x* & *y*.  Please use the *color* keyword-argument or provide a 2-D array with a single row if you intend to specify the same RGB or RGBA value for all points.\n",
            "*c* argument looks like a single numeric RGB or RGBA sequence, which should be avoided as value-mapping will have precedence in case its length matches with *x* & *y*.  Please use the *color* keyword-argument or provide a 2-D array with a single row if you intend to specify the same RGB or RGBA value for all points.\n"
          ],
          "name": "stderr"
        },
        {
          "output_type": "display_data",
          "data": {
            "image/png": "[encoded data removed]",
            "text/plain": [
              "<Figure size 432x288 with 1 Axes>"
            ]
          },
          "metadata": {
            "tags": [],
            "needs_background": "light"
          }
        }
      ]
    }
  ]
}