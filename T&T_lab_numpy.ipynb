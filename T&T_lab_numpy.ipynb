{
  "nbformat": 4,
  "nbformat_minor": 0,
  "metadata": {
    "colab": {
      "name": "T&T_lab_numpy.ipynb",
      "provenance": [],
      "authorship_tag": "ABX9TyOPo50bQ16yADRkpwmQiglU",
      "include_colab_link": true
    },
    "kernelspec": {
      "name": "python3",
      "display_name": "Python 3"
    }
  },
  "cells": [
    {
      "cell_type": "markdown",
      "metadata": {
        "id": "view-in-github",
        "colab_type": "text"
      },
      "source": [
        "<a href=\"https://colab.research.google.com/github/udghosh/Practice/blob/main/T%26T_lab_numpy.ipynb\" target=\"_parent\"><img src=\"https://colab.research.google.com/assets/colab-badge.svg\" alt=\"Open In Colab\"/></a>"
      ]
    },
    {
      "cell_type": "markdown",
      "metadata": {
        "id": "uyWSpyV2Tp1y"
      },
      "source": [
        "\n",
        "Convertind 2D to 1D Array\n",
        "\n",
        "---\n",
        "\n"
      ]
    },
    {
      "cell_type": "code",
      "metadata": {
        "colab": {
          "base_uri": "https://localhost:8080/"
        },
        "id": "mepEcLVhTRhd",
        "outputId": "fa61fc71-e4b0-43ef-c0c6-b9129b3f07b7"
      },
      "source": [
        "import numpy as np \n",
        "\n",
        "ini_array1 = np.array([[1, 2, 3], [4, 5, 6], [7, 8, 9]]) \n",
        "\n",
        "print(\"initial array\", str(ini_array1)) \n",
        " \n",
        "result = ini_array1.flatten() \n",
        " \n",
        "print(\"New resulting array: \", result) "
      ],
      "execution_count": null,
      "outputs": [
        {
          "output_type": "stream",
          "text": [
            "initial array [[1 2 3]\n",
            " [4 5 6]\n",
            " [7 8 9]]\n",
            "New resulting array:  [1 2 3 4 5 6 7 8 9]\n"
          ],
          "name": "stdout"
        }
      ]
    }
  ]
}