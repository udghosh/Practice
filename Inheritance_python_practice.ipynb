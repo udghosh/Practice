{
  "nbformat": 4,
  "nbformat_minor": 0,
  "metadata": {
    "kernelspec": {
      "display_name": "Python 3",
      "language": "python",
      "name": "python3"
    },
    "language_info": {
      "codemirror_mode": {
        "name": "ipython",
        "version": 3
      },
      "file_extension": ".py",
      "mimetype": "text/x-python",
      "name": "python",
      "nbconvert_exporter": "python",
      "pygments_lexer": "ipython3",
      "version": "3.8.5"
    },
    "colab": {
      "name": "Inheritance_python_practice.ipynb",
      "provenance": [],
      "include_colab_link": true
    }
  },
  "cells": [
    {
      "cell_type": "markdown",
      "metadata": {
        "id": "view-in-github",
        "colab_type": "text"
      },
      "source": [
        "<a href=\"https://colab.research.google.com/github/udghosh/Practice/blob/main/Inheritance_python_practice.ipynb\" target=\"_parent\"><img src=\"https://colab.research.google.com/assets/colab-badge.svg\" alt=\"Open In Colab\"/></a>"
      ]
    },
    {
      "cell_type": "markdown",
      "metadata": {
        "id": "zerpYSEOMRni"
      },
      "source": [
        "## Answer 1<br>\n",
        "\n",
        "---\n",
        "\n",
        "\n",
        "\n",
        "Error because class B inherits A but variable x isn’t inherited\n"
      ]
    },
    {
      "cell_type": "code",
      "metadata": {
        "scrolled": true,
        "id": "KiYJgftOMRoB",
        "colab": {
          "base_uri": "https://localhost:8080/",
          "height": 305
        },
        "outputId": "eee22456-8b05-4e94-c7b6-51ea9cf6d11d"
      },
      "source": [
        "class Test:\n",
        "    def __init__(self):\n",
        "        self.x = 0\n",
        "class Derived_Test(Test):\n",
        "    def __init__(self):\n",
        "        self.y = 1\n",
        "def main():\n",
        "    b = Derived_Test()\n",
        "    print(b.x,b.y)\n",
        "main()\n"
      ],
      "execution_count": 1,
      "outputs": [
        {
          "output_type": "error",
          "ename": "AttributeError",
          "evalue": "ignored",
          "traceback": [
            "\u001b[0;31m---------------------------------------------------------------------------\u001b[0m",
            "\u001b[0;31mAttributeError\u001b[0m                            Traceback (most recent call last)",
            "\u001b[0;32m<ipython-input-1-53911ff7f816>\u001b[0m in \u001b[0;36m<module>\u001b[0;34m()\u001b[0m\n\u001b[1;32m      8\u001b[0m     \u001b[0mb\u001b[0m \u001b[0;34m=\u001b[0m \u001b[0mDerived_Test\u001b[0m\u001b[0;34m(\u001b[0m\u001b[0;34m)\u001b[0m\u001b[0;34m\u001b[0m\u001b[0;34m\u001b[0m\u001b[0m\n\u001b[1;32m      9\u001b[0m     \u001b[0mprint\u001b[0m\u001b[0;34m(\u001b[0m\u001b[0mb\u001b[0m\u001b[0;34m.\u001b[0m\u001b[0mx\u001b[0m\u001b[0;34m,\u001b[0m\u001b[0mb\u001b[0m\u001b[0;34m.\u001b[0m\u001b[0my\u001b[0m\u001b[0;34m)\u001b[0m\u001b[0;34m\u001b[0m\u001b[0;34m\u001b[0m\u001b[0m\n\u001b[0;32m---> 10\u001b[0;31m \u001b[0mmain\u001b[0m\u001b[0;34m(\u001b[0m\u001b[0;34m)\u001b[0m\u001b[0;34m\u001b[0m\u001b[0;34m\u001b[0m\u001b[0m\n\u001b[0m",
            "\u001b[0;32m<ipython-input-1-53911ff7f816>\u001b[0m in \u001b[0;36mmain\u001b[0;34m()\u001b[0m\n\u001b[1;32m      7\u001b[0m \u001b[0;32mdef\u001b[0m \u001b[0mmain\u001b[0m\u001b[0;34m(\u001b[0m\u001b[0;34m)\u001b[0m\u001b[0;34m:\u001b[0m\u001b[0;34m\u001b[0m\u001b[0;34m\u001b[0m\u001b[0m\n\u001b[1;32m      8\u001b[0m     \u001b[0mb\u001b[0m \u001b[0;34m=\u001b[0m \u001b[0mDerived_Test\u001b[0m\u001b[0;34m(\u001b[0m\u001b[0;34m)\u001b[0m\u001b[0;34m\u001b[0m\u001b[0;34m\u001b[0m\u001b[0m\n\u001b[0;32m----> 9\u001b[0;31m     \u001b[0mprint\u001b[0m\u001b[0;34m(\u001b[0m\u001b[0mb\u001b[0m\u001b[0;34m.\u001b[0m\u001b[0mx\u001b[0m\u001b[0;34m,\u001b[0m\u001b[0mb\u001b[0m\u001b[0;34m.\u001b[0m\u001b[0my\u001b[0m\u001b[0;34m)\u001b[0m\u001b[0;34m\u001b[0m\u001b[0;34m\u001b[0m\u001b[0m\n\u001b[0m\u001b[1;32m     10\u001b[0m \u001b[0mmain\u001b[0m\u001b[0;34m(\u001b[0m\u001b[0;34m)\u001b[0m\u001b[0;34m\u001b[0m\u001b[0;34m\u001b[0m\u001b[0m\n",
            "\u001b[0;31mAttributeError\u001b[0m: 'Derived_Test' object has no attribute 'x'"
          ]
        }
      ]
    },
    {
      "cell_type": "markdown",
      "metadata": {
        "id": "vkJHefhyMRoH"
      },
      "source": [
        "## Answer 2\n",
        "\n",
        "---\n",
        "\n",
        "\n",
        "\n",
        "\n",
        "A disp() <br> Class b inherits class a , so disp() is part of class B"
      ]
    },
    {
      "cell_type": "code",
      "metadata": {
        "id": "VovA7ILPMRoJ",
        "colab": {
          "base_uri": "https://localhost:8080/"
        },
        "outputId": "78dc172c-4aed-4c4b-a129-e5746a8ff41c"
      },
      "source": [
        "class A():\n",
        "    def disp(self):\n",
        "        print(\"A disp()\")\n",
        "class B(A):\n",
        "    pass\n",
        "obj = B()\n",
        "obj.disp()\n"
      ],
      "execution_count": 2,
      "outputs": [
        {
          "output_type": "stream",
          "text": [
            "A disp()\n"
          ],
          "name": "stdout"
        }
      ]
    },
    {
      "cell_type": "markdown",
      "metadata": {
        "id": "56REBxPFMRoL"
      },
      "source": [
        "## Answer 3<br>\n",
        "\n",
        "---\n",
        "\n",
        "\n",
        "\n",
        "__ init__(self)"
      ]
    },
    {
      "cell_type": "markdown",
      "metadata": {
        "id": "IAOYZf8XMRoM"
      },
      "source": [
        "## Answer 4\n",
        "\n",
        "---\n",
        "\n",
        "\n",
        "\n",
        "0 1 <br>\n",
        "Since x is inherited it can be acessed"
      ]
    },
    {
      "cell_type": "code",
      "metadata": {
        "id": "S-cUo90IMRoN",
        "colab": {
          "base_uri": "https://localhost:8080/"
        },
        "outputId": "44a209d8-5d54-4677-ac0b-5af0d3ca5800"
      },
      "source": [
        "class Test:\n",
        "    def __init__(self):\n",
        "        self.x = 0\n",
        "class Derived_Test(Test):\n",
        "    def __init__(self):\n",
        "        Test.__init__(self)\n",
        "        self.y = 1\n",
        "def main():\n",
        "    b = Derived_Test()\n",
        "    print(b.x,b.y)\n",
        "main()\n"
      ],
      "execution_count": 3,
      "outputs": [
        {
          "output_type": "stream",
          "text": [
            "0 1\n"
          ],
          "name": "stdout"
        }
      ]
    },
    {
      "cell_type": "markdown",
      "metadata": {
        "id": "cR60cNtkMRoP"
      },
      "source": [
        "## Answer 5\n",
        "\n",
        "---\n",
        "\n",
        "\n",
        "1 2 <br>\n",
        "\n",
        "A is inherited so is x."
      ]
    },
    {
      "cell_type": "code",
      "metadata": {
        "id": "7fReahKSMRoQ",
        "colab": {
          "base_uri": "https://localhost:8080/"
        },
        "outputId": "8d39a6c9-d645-4bd1-9759-f9c3de5d7a8a"
      },
      "source": [
        "class A:\n",
        "    def __init__(self, x= 1):\n",
        "        self.x = x\n",
        "class der(A):\n",
        "    def __init__(self,y = 2):\n",
        "        super().__init__()\n",
        "        self.y = y\n",
        "def main():\n",
        "    obj = der()\n",
        "    print(obj.x, obj.y)\n",
        "main()\n"
      ],
      "execution_count": 4,
      "outputs": [
        {
          "output_type": "stream",
          "text": [
            "1 2\n"
          ],
          "name": "stdout"
        }
      ]
    },
    {
      "cell_type": "markdown",
      "metadata": {
        "id": "sLESyDrvMRoR"
      },
      "source": [
        "## Answer 6\n",
        "\n",
        "---\n",
        "\n"
      ]
    },
    {
      "cell_type": "code",
      "metadata": {
        "id": "Z4e0GjcDMRoS",
        "colab": {
          "base_uri": "https://localhost:8080/"
        },
        "outputId": "e7e10e6d-1477-4b1f-ebac-85f3edbdf4a1"
      },
      "source": [
        "class A:\n",
        "    def one(self):\n",
        "        return self.two()\n",
        " \n",
        "    def two(self):\n",
        "        return 'A'\n",
        " \n",
        "class B(A):\n",
        "    def two(self):\n",
        "        return 'B'\n",
        "obj1=A()\n",
        "obj2=B()\n",
        "print(obj1.two(),obj2.two())\n"
      ],
      "execution_count": 5,
      "outputs": [
        {
          "output_type": "stream",
          "text": [
            "A B\n"
          ],
          "name": "stdout"
        }
      ]
    },
    {
      "cell_type": "markdown",
      "metadata": {
        "id": "XQsEPpoNMRoU"
      },
      "source": [
        "## Answer 7: <br>\n",
        "\n",
        "---\n",
        "\n",
        "\n",
        "\n",
        "Determines the class name of any value"
      ]
    },
    {
      "cell_type": "markdown",
      "metadata": {
        "id": "47IDXOTUMRoU"
      },
      "source": [
        "## Answer 8\n",
        "\n",
        "---\n",
        "\n"
      ]
    },
    {
      "cell_type": "code",
      "metadata": {
        "id": "grIJAbvjMRoV",
        "colab": {
          "base_uri": "https://localhost:8080/"
        },
        "outputId": "dbdb7cb5-9ee6-493e-b85e-f59075631145"
      },
      "source": [
        "class Demo:\n",
        "    def __new__(self):\n",
        "        self.__init__(self)\n",
        "        print(\"Demo's __new__() invoked\")\n",
        "    def __init__(self):\n",
        "        print(\"Demo's __init__() invoked\")\n",
        "class Derived_Demo(Demo):\n",
        "    def __new__(self):\n",
        "        print(\"Derived_Demo's __new__() invoked\")\n",
        "    def __init__(self):\n",
        "        print(\"Derived_Demo's __init__() invoked\")\n",
        "def main():\n",
        "    obj1 = Derived_Demo()\n",
        "    obj2 = Demo()\n",
        "main()\n"
      ],
      "execution_count": 6,
      "outputs": [
        {
          "output_type": "stream",
          "text": [
            "Derived_Demo's __new__() invoked\n",
            "Demo's __init__() invoked\n",
            "Demo's __new__() invoked\n"
          ],
          "name": "stdout"
        }
      ]
    },
    {
      "cell_type": "markdown",
      "metadata": {
        "id": "9V7hqTrcMRoX"
      },
      "source": [
        "## Answer 9\n",
        "\n",
        "---\n",
        "\n"
      ]
    },
    {
      "cell_type": "code",
      "metadata": {
        "colab": {
          "base_uri": "https://localhost:8080/"
        },
        "id": "YcVbfVm1MRoX",
        "outputId": "80f4e785-7aad-408f-a103-d532a6e797a3"
      },
      "source": [
        "class Library:\n",
        "    def __init__(self):\n",
        "        self.library_name = \"\"\n",
        "        self.library_capacity=824\n",
        "        print(\"Welcome To  The Library !!!\")\n",
        "class Books(Library):\n",
        "    def __init__(self):\n",
        "        super().__init__()\n",
        "        self.books = []\n",
        "        self.authors = []\n",
        "        print(\"The Currently Available books :- \")\n",
        "def main():\n",
        "    books = Books()\n",
        "    print(books.library_capacity)\n",
        "    \n",
        "main()"
      ],
      "execution_count": 7,
      "outputs": [
        {
          "output_type": "stream",
          "text": [
            "Welcome To  The Library !!!\n",
            "The Currently Available books :- \n",
            "824\n"
          ],
          "name": "stdout"
        }
      ]
    },
    {
      "cell_type": "markdown",
      "metadata": {
        "id": "JoWBi5LyZyXc"
      },
      "source": [
        "# Answer 10"
      ]
    },
    {
      "cell_type": "code",
      "metadata": {
        "id": "SG0aybtXM31L"
      },
      "source": [
        "class Test:\n",
        "    def __init__(self):\n",
        "        self.x = 0\n",
        "class Derived_Test(Test):\n",
        "    def __init__(self):\n",
        "        self.y = 1\n",
        "def main():\n",
        "  b = Derived_Test()\n",
        "  print(b.x,b.y)  "
      ],
      "execution_count": 8,
      "outputs": []
    },
    {
      "cell_type": "markdown",
      "metadata": {
        "id": "pDQtCUjfZ76d"
      },
      "source": [
        "# Answer 11"
      ]
    },
    {
      "cell_type": "code",
      "metadata": {
        "colab": {
          "base_uri": "https://localhost:8080/"
        },
        "id": "M7jg6Nv6Z_a3",
        "outputId": "28eab1a1-947a-4882-92d6-9caa6208684e"
      },
      "source": [
        "class A():\n",
        "    def disp(self):\n",
        "        print(\"A disp()\")\n",
        "class B(A):\n",
        "    pass\n",
        "obj = B()\n",
        "obj.disp()"
      ],
      "execution_count": 9,
      "outputs": [
        {
          "output_type": "stream",
          "text": [
            "A disp()\n"
          ],
          "name": "stdout"
        }
      ]
    },
    {
      "cell_type": "code",
      "metadata": {
        "id": "HkqjE5LWbK7q"
      },
      "source": [
        ""
      ],
      "execution_count": null,
      "outputs": []
    }
  ]
}