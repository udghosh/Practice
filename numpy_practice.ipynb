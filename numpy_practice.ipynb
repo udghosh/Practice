{
  "nbformat": 4,
  "nbformat_minor": 0,
  "metadata": {
    "colab": {
      "name": "numpy_practice.ipynb",
      "provenance": [],
      "authorship_tag": "ABX9TyNjjJW/X+Cl+c5r9nAMaMNX",
      "include_colab_link": true
    },
    "kernelspec": {
      "name": "python3",
      "display_name": "Python 3"
    }
  },
  "cells": [
    {
      "cell_type": "markdown",
      "metadata": {
        "id": "view-in-github",
        "colab_type": "text"
      },
      "source": [
        "<a href=\"https://colab.research.google.com/github/udghosh/Practice/blob/main/numpy_practice.ipynb\" target=\"_parent\"><img src=\"https://colab.research.google.com/assets/colab-badge.svg\" alt=\"Open In Colab\"/></a>"
      ]
    },
    {
      "cell_type": "code",
      "metadata": {
        "colab": {
          "base_uri": "https://localhost:8080/"
        },
        "id": "2NkmbFzoWlhm",
        "outputId": "a128b96b-2180-4a87-8dbb-4321a9156b92"
      },
      "source": [
        "import numpy as np\n",
        "arr = np.array([1, 2, 3, 4, 5])\n",
        "print(arr)"
      ],
      "execution_count": null,
      "outputs": [
        {
          "output_type": "stream",
          "text": [
            "[1 2 3 4 5]\n"
          ],
          "name": "stdout"
        }
      ]
    },
    {
      "cell_type": "code",
      "metadata": {
        "colab": {
          "base_uri": "https://localhost:8080/"
        },
        "id": "b4GjHNw5XPgJ",
        "outputId": "895aac15-1046-4417-fd67-8dfbcce6cb73"
      },
      "source": [
        "arr.reshape(1,5)"
      ],
      "execution_count": null,
      "outputs": [
        {
          "output_type": "execute_result",
          "data": {
            "text/plain": [
              "array([[1, 2, 3, 4, 5]])"
            ]
          },
          "metadata": {
            "tags": []
          },
          "execution_count": 2
        }
      ]
    },
    {
      "cell_type": "code",
      "metadata": {
        "colab": {
          "base_uri": "https://localhost:8080/"
        },
        "id": "QjgQtIPTXfgw",
        "outputId": "e22ccb57-1e9b-46e9-933d-22cd40a1c714"
      },
      "source": [
        "np.zeros(8)"
      ],
      "execution_count": null,
      "outputs": [
        {
          "output_type": "execute_result",
          "data": {
            "text/plain": [
              "array([0., 0., 0., 0., 0., 0., 0., 0.])"
            ]
          },
          "metadata": {
            "tags": []
          },
          "execution_count": 3
        }
      ]
    },
    {
      "cell_type": "code",
      "metadata": {
        "colab": {
          "base_uri": "https://localhost:8080/"
        },
        "id": "Kd1ECFVqXvET",
        "outputId": "b17be4c8-0e4f-415b-cd7c-bf963513882c"
      },
      "source": [
        "from numpy import random\n",
        "x = random.randint(100)\n",
        "print(x)"
      ],
      "execution_count": null,
      "outputs": [
        {
          "output_type": "stream",
          "text": [
            "53\n"
          ],
          "name": "stdout"
        }
      ]
    },
    {
      "cell_type": "code",
      "metadata": {
        "colab": {
          "base_uri": "https://localhost:8080/"
        },
        "id": "ytnSZFX8Yv5o",
        "outputId": "d59b27a7-be90-4bb6-dd0f-c90b8e8ab475"
      },
      "source": [
        "arr3=np.array([[1,2],[3,4],[5,6]])\n",
        "print(arr3)"
      ],
      "execution_count": null,
      "outputs": [
        {
          "output_type": "stream",
          "text": [
            "[[1 2]\n",
            " [3 4]\n",
            " [5 6]]\n"
          ],
          "name": "stdout"
        }
      ]
    },
    {
      "cell_type": "code",
      "metadata": {
        "colab": {
          "base_uri": "https://localhost:8080/"
        },
        "id": "TvhCQF-SYP9K",
        "outputId": "a45df62b-f854-44ea-9256-dbf99ae268d4"
      },
      "source": [
        "np.arange(1,15,3)"
      ],
      "execution_count": null,
      "outputs": [
        {
          "output_type": "execute_result",
          "data": {
            "text/plain": [
              "array([ 1,  4,  7, 10, 13])"
            ]
          },
          "metadata": {
            "tags": []
          },
          "execution_count": 6
        }
      ]
    },
    {
      "cell_type": "code",
      "metadata": {
        "colab": {
          "base_uri": "https://localhost:8080/"
        },
        "id": "ojwvlcebYew0",
        "outputId": "5890e8c6-52b8-44fe-bf7e-95a0976e0798"
      },
      "source": [
        "np.linspace(10,20,5)"
      ],
      "execution_count": null,
      "outputs": [
        {
          "output_type": "execute_result",
          "data": {
            "text/plain": [
              "array([10. , 12.5, 15. , 17.5, 20. ])"
            ]
          },
          "metadata": {
            "tags": []
          },
          "execution_count": 7
        }
      ]
    },
    {
      "cell_type": "code",
      "metadata": {
        "colab": {
          "base_uri": "https://localhost:8080/"
        },
        "id": "GBvbd4RIY8bk",
        "outputId": "02cf09c0-00c0-4f5b-98be-f77aec922ef9"
      },
      "source": [
        "a = np.arange(1,20,1)\n",
        "s = slice(2,7)\n",
        "print(a)\n",
        "print(a[s])\n"
      ],
      "execution_count": null,
      "outputs": [
        {
          "output_type": "stream",
          "text": [
            "[ 1  2  3  4  5  6  7  8  9 10 11 12 13 14 15 16 17 18 19]\n",
            "[3 4 5 6 7]\n"
          ],
          "name": "stdout"
        }
      ]
    },
    {
      "cell_type": "code",
      "metadata": {
        "colab": {
          "base_uri": "https://localhost:8080/"
        },
        "id": "bZhiQjxNZp_c",
        "outputId": "1d4afbd0-690d-4791-f0c6-8617be35a523"
      },
      "source": [
        "a = np.arange(1,20,1)\n",
        "print(a[a>5])"
      ],
      "execution_count": null,
      "outputs": [
        {
          "output_type": "stream",
          "text": [
            "[ 6  7  8  9 10 11 12 13 14 15 16 17 18 19]\n"
          ],
          "name": "stdout"
        }
      ]
    },
    {
      "cell_type": "code",
      "metadata": {
        "colab": {
          "base_uri": "https://localhost:8080/"
        },
        "id": "40PMAU7KaAHk",
        "outputId": "20239a01-0721-4807-9fef-e1987bcab298"
      },
      "source": [
        "a = np.char.multiply(\"hello\",5)\n",
        "print(a)"
      ],
      "execution_count": null,
      "outputs": [
        {
          "output_type": "stream",
          "text": [
            "hellohellohellohellohello\n"
          ],
          "name": "stdout"
        }
      ]
    },
    {
      "cell_type": "code",
      "metadata": {
        "colab": {
          "base_uri": "https://localhost:8080/"
        },
        "id": "4HQInUEJaM-L",
        "outputId": "2e487802-b4b7-4e85-fec0-e1f028dd0475"
      },
      "source": [
        "li1 = [\"hello\"]\n",
        "li2 = [\"uday\"]\n",
        "a = np.char.add(li1,li2)\n",
        "print(a)"
      ],
      "execution_count": null,
      "outputs": [
        {
          "output_type": "stream",
          "text": [
            "['hellouday']\n"
          ],
          "name": "stdout"
        }
      ]
    },
    {
      "cell_type": "code",
      "metadata": {
        "colab": {
          "base_uri": "https://localhost:8080/"
        },
        "id": "Ru6_7rv0an4j",
        "outputId": "0c90908b-a6c3-4c9c-9866-5114f8f6c1bc"
      },
      "source": [
        "a = np.char.capitalize(\"bye\")\n",
        "print(a)"
      ],
      "execution_count": null,
      "outputs": [
        {
          "output_type": "stream",
          "text": [
            "Bye\n"
          ],
          "name": "stdout"
        }
      ]
    },
    {
      "cell_type": "code",
      "metadata": {
        "colab": {
          "base_uri": "https://localhost:8080/"
        },
        "id": "sTpvYe9ha26o",
        "outputId": "3c34bd02-c3a7-46eb-8ff0-b005e8faf10e"
      },
      "source": [
        "a = np.char.split(\"hello-folks-I-am-Uday\",'-')\n",
        "print(a)"
      ],
      "execution_count": null,
      "outputs": [
        {
          "output_type": "stream",
          "text": [
            "['hello', 'folks', 'I', 'am', 'Uday']\n"
          ],
          "name": "stdout"
        }
      ]
    },
    {
      "cell_type": "code",
      "metadata": {
        "colab": {
          "base_uri": "https://localhost:8080/"
        },
        "id": "wjvYiykmbP_f",
        "outputId": "7af893c7-a57e-4c3c-fd86-8f1b7dcfe31b"
      },
      "source": [
        "print(np.char.strip('hello hash has a hash','h'))\n",
        "print(np.char.strip(['ab','aab','aaab'],'a'))\n"
      ],
      "execution_count": null,
      "outputs": [
        {
          "output_type": "stream",
          "text": [
            "ello hash has a has\n",
            "['b' 'b' 'b']\n"
          ],
          "name": "stdout"
        }
      ]
    },
    {
      "cell_type": "code",
      "metadata": {
        "colab": {
          "base_uri": "https://localhost:8080/"
        },
        "id": "lPfFhyowcpqL",
        "outputId": "1eb1e1dc-71be-421c-e9f0-6ee3a4d36fd2"
      },
      "source": [
        "print(np.char.join(':','hello folks'))"
      ],
      "execution_count": null,
      "outputs": [
        {
          "output_type": "stream",
          "text": [
            "h:e:l:l:o: :f:o:l:k:s\n"
          ],
          "name": "stdout"
        }
      ]
    },
    {
      "cell_type": "code",
      "metadata": {
        "colab": {
          "base_uri": "https://localhost:8080/"
        },
        "id": "C80eMaKHdENx",
        "outputId": "b1a8ee74-ef43-44b7-9059-1a2c881f21a3"
      },
      "source": [
        "print(np.power(2,3))"
      ],
      "execution_count": null,
      "outputs": [
        {
          "output_type": "stream",
          "text": [
            "8\n"
          ],
          "name": "stdout"
        }
      ]
    },
    {
      "cell_type": "code",
      "metadata": {
        "id": "x_ZhzyNtdVMQ"
      },
      "source": [
        "import numpy as np\n",
        "import pandas as pd\n",
        "n_studs = 300\n",
        "HouseOne = pd.DataFrame({\n",
        "    \"Name\":[\"Name_\"+str(i) for i in range(n_studs)],\n",
        "    \"Subject\":np.random.choice([\"Subject_\"+str(i) for i in range(6)], size=n_studs),\n",
        "    \"Rating\":np.random.uniform(low=1, high=10, size=n_studs)\n",
        "})\n"
      ],
      "execution_count": null,
      "outputs": []
    }
  ]
}